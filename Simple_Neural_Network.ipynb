{
  "nbformat": 4,
  "nbformat_minor": 0,
  "metadata": {
    "colab": {
      "provenance": [],
      "gpuType": "T4",
      "authorship_tag": "ABX9TyNd9bgpdecY+/FYN0f01+2p",
      "include_colab_link": true
    },
    "kernelspec": {
      "name": "python3",
      "display_name": "Python 3"
    },
    "language_info": {
      "name": "python"
    },
    "accelerator": "GPU"
  },
  "cells": [
    {
      "cell_type": "markdown",
      "metadata": {
        "id": "view-in-github",
        "colab_type": "text"
      },
      "source": [
        "<a href=\"https://colab.research.google.com/github/hector2506/aprendizado-pytorch/blob/main/Simple_Neural_Network.ipynb\" target=\"_parent\"><img src=\"https://colab.research.google.com/assets/colab-badge.svg\" alt=\"Open In Colab\"/></a>"
      ]
    },
    {
      "cell_type": "markdown",
      "source": [
        "# Network to classify iris flowers"
      ],
      "metadata": {
        "id": "5b2oNSV7dtGq"
      }
    },
    {
      "cell_type": "markdown",
      "source": [
        "The neural network will use the Iris Data Set"
      ],
      "metadata": {
        "id": "wcXiueJCdw8w"
      }
    },
    {
      "cell_type": "code",
      "execution_count": 13,
      "metadata": {
        "id": "_0xqgLk7dGSU"
      },
      "outputs": [],
      "source": [
        "import torch\n",
        "import torch.nn as nn\n",
        "import torch.nn.functional as F\n",
        "import pandas as pd\n",
        "from sklearn.model_selection import train_test_split\n",
        "import matplotlib.pyplot as plt\n",
        "%matplotlib inline"
      ]
    },
    {
      "cell_type": "code",
      "source": [
        "# Create a Model Class that inherits nn.Module\n",
        "class Neural_Model(nn.Module):\n",
        "  def __init__(self, in_features=4, h1=8, h2=9, out_features=3):\n",
        "    super().__init__() # instantiate our nn.Module\n",
        "    self.fc1 = nn.Linear(in_features, h1)\n",
        "    self.fc2 = nn.Linear(h1, h2)\n",
        "    self.out = nn.Linear(h2, out_features)\n",
        "\n",
        "  def forward(self, x):\n",
        "    # relu = rectified linear unit, it does something,\n",
        "    # if the output is less than 0, it becomes 0,\n",
        "    # if it's more than 0, it uses the output\n",
        "    x = F.relu(self.fc1(x))\n",
        "    x = F.relu(self.fc2(x))\n",
        "    x = self.out(x)\n",
        "\n",
        "    return x"
      ],
      "metadata": {
        "id": "PF1wcxbJe-8Q"
      },
      "execution_count": 14,
      "outputs": []
    },
    {
      "cell_type": "code",
      "source": [
        "# Pick a manual seed for randomization\n",
        "torch.manual_seed(41)\n",
        "\n",
        "# Create an instance of our model\n",
        "model = Neural_Model()"
      ],
      "metadata": {
        "id": "7MVtCELujEI5"
      },
      "execution_count": 15,
      "outputs": []
    },
    {
      "cell_type": "code",
      "source": [
        "url = 'https://gist.githubusercontent.com/curran/a08a1080b88344b0c8a7/raw/0e7a9b0a5d22642a06d3d5b9bcbad9890c8ee534/iris.csv'\n",
        "my_dataframe = pd.read_csv(url)\n",
        "my_dataframe"
      ],
      "metadata": {
        "id": "15FZuVYlmIBx"
      },
      "execution_count": null,
      "outputs": []
    },
    {
      "cell_type": "code",
      "source": [
        "# Change last column from string to float\n",
        "my_dataframe['species'] = my_dataframe['species'].replace(\"setosa\", 0.0)\n",
        "my_dataframe['species'] = my_dataframe['species'].replace(\"versicolor\", 1.0)\n",
        "my_dataframe['species'] = my_dataframe['species'].replace(\"virginica\", 2.0)\n",
        "my_dataframe"
      ],
      "metadata": {
        "id": "kMIJGaESgk4X"
      },
      "execution_count": null,
      "outputs": []
    },
    {
      "cell_type": "code",
      "source": [
        "# Train Test Split! Set X (features), y (outcome)\n",
        "X = my_dataframe.drop(\"species\", axis=1)\n",
        "y = my_dataframe[\"species\"]"
      ],
      "metadata": {
        "id": "dXjFLlUDhaK5"
      },
      "execution_count": 18,
      "outputs": []
    },
    {
      "cell_type": "code",
      "source": [
        "# Convert to numpy arrays\n",
        "X = X.values\n",
        "y = y.values"
      ],
      "metadata": {
        "id": "_dtT-VCzh_Ie"
      },
      "execution_count": 19,
      "outputs": []
    },
    {
      "cell_type": "code",
      "source": [
        "# Train Test Split\n",
        "# 80% train, 20% test\n",
        "X_train, X_test, y_train, y_test = train_test_split(X, y, test_size=0.2, random_state=41)"
      ],
      "metadata": {
        "id": "0jfQXNKFiHxe"
      },
      "execution_count": 20,
      "outputs": []
    },
    {
      "cell_type": "code",
      "source": [
        "# Convert X features to float tensors\n",
        "X_train = torch.FloatTensor(X_train)\n",
        "X_test = torch.FloatTensor(X_test)"
      ],
      "metadata": {
        "id": "BOEtOMJckEbc"
      },
      "execution_count": 21,
      "outputs": []
    },
    {
      "cell_type": "code",
      "source": [
        "# Convert y labels to tensors long (64-bit Integers)\n",
        "y_train = torch.LongTensor(y_train)\n",
        "y_test = torch.LongTensor(y_test)"
      ],
      "metadata": {
        "id": "K37UXzGtkHgn"
      },
      "execution_count": 22,
      "outputs": []
    },
    {
      "cell_type": "code",
      "source": [
        "# Set the criterion of model to measure the error\n",
        "# how far off the predictions are from the data\n",
        "criterion = nn.CrossEntropyLoss()\n",
        "\n",
        "# Choose Optimizer (using Adam), and the learning rate (lr)\n",
        "# if error doesn't go down after a lot of epochs, we might\n",
        "# want to lower our lr\n",
        "# model.parameters take our Neural_Model's fc1, fc2, and out\n",
        "# it is the neural network's layers\n",
        "optimizer = torch.optim.Adam(model.parameters(), lr=0.01)"
      ],
      "metadata": {
        "id": "S66fyeJuk1Bp"
      },
      "execution_count": 23,
      "outputs": []
    },
    {
      "cell_type": "code",
      "source": [
        "# Train our model\n",
        "# Determine how many epochs\n",
        "epochs = 100\n",
        "losses = []\n",
        "for i in range(epochs):\n",
        "  # Go forward and get a prediction\n",
        "  y_pred = model.forward(X_train) # Get predicted results\n",
        "\n",
        "  # Measure the loss/error\n",
        "  loss = criterion(y_pred, y_train) # predicted values vs y_train\n",
        "\n",
        "  # Keep Track of our losses\n",
        "  losses.append(loss.detach().numpy())\n",
        "\n",
        "  # Print every 10 epochs\n",
        "  if i % 10 == 0:\n",
        "    print(f'Epoch: {i} and loss: {loss}')\n",
        "\n",
        "  # Back propagation: take the error rate of forward propagation\n",
        "  # and feed it back through the network to fine tune the weights\n",
        "  optimizer.zero_grad()\n",
        "  loss.backward()\n",
        "  optimizer.step()"
      ],
      "metadata": {
        "colab": {
          "base_uri": "https://localhost:8080/"
        },
        "id": "pSuAuVDQl7g8",
        "outputId": "7f3dcb3e-1237-4ec0-e05e-d97c7e68d50c"
      },
      "execution_count": 24,
      "outputs": [
        {
          "output_type": "stream",
          "name": "stdout",
          "text": [
            "Epoch: 0 and loss: 1.1251550912857056\n",
            "Epoch: 10 and loss: 1.0096259117126465\n",
            "Epoch: 20 and loss: 0.8157405853271484\n",
            "Epoch: 30 and loss: 0.585706353187561\n",
            "Epoch: 40 and loss: 0.3999636471271515\n",
            "Epoch: 50 and loss: 0.2676880657672882\n",
            "Epoch: 60 and loss: 0.17942363023757935\n",
            "Epoch: 70 and loss: 0.12151690572500229\n",
            "Epoch: 80 and loss: 0.0860118418931961\n",
            "Epoch: 90 and loss: 0.06520850956439972\n"
          ]
        }
      ]
    },
    {
      "cell_type": "code",
      "source": [
        "# Put it on a graph\n",
        "plt.plot(range(epochs), losses)\n",
        "plt.ylabel(\"loss/error\")\n",
        "plt.xlabel(\"epoch\")"
      ],
      "metadata": {
        "colab": {
          "base_uri": "https://localhost:8080/",
          "height": 467
        },
        "id": "e_UkSsYlsTcz",
        "outputId": "6b325430-a7d1-46f9-a116-89b84618e01a"
      },
      "execution_count": 25,
      "outputs": [
        {
          "output_type": "execute_result",
          "data": {
            "text/plain": [
              "Text(0.5, 0, 'epoch')"
            ]
          },
          "metadata": {},
          "execution_count": 25
        },
        {
          "output_type": "display_data",
          "data": {
            "text/plain": [
              "<Figure size 640x480 with 1 Axes>"
            ],
            "image/png": "[encoded data removed]"
          },
          "metadata": {}
        }
      ]
    },
    {
      "cell_type": "code",
      "source": [
        "# Evaluate Model on Test Data Set (validate model on test set)\n",
        "with torch.no_grad(): # Basically turn off back propagation\n",
        "  # X_test are features from our test set\n",
        "  # y_eval will be predictions\n",
        "  y_eval = model.forward(X_test)\n",
        "  loss = criterion(y_eval, y_test) # Find the loss/error"
      ],
      "metadata": {
        "id": "2PsyKo-VtBbK"
      },
      "execution_count": 26,
      "outputs": []
    },
    {
      "cell_type": "code",
      "source": [
        "loss"
      ],
      "metadata": {
        "colab": {
          "base_uri": "https://localhost:8080/"
        },
        "id": "2lHbJAjYujvT",
        "outputId": "f159c78c-fc29-4aa9-9252-ed5f824a9ed1"
      },
      "execution_count": 27,
      "outputs": [
        {
          "output_type": "execute_result",
          "data": {
            "text/plain": [
              "tensor(0.1315)"
            ]
          },
          "metadata": {},
          "execution_count": 27
        }
      ]
    },
    {
      "cell_type": "code",
      "source": [
        "correct = 0\n",
        "with torch.no_grad():\n",
        "  for i, data in enumerate(X_test):\n",
        "    y_val = model.forward(data)\n",
        "\n",
        "    # Will tell us what type of flower class our\n",
        "    # network thinks it is, that is, the one with\n",
        "    # the highest number\n",
        "    print(f'{i+1} {str(y_val)} \\t {y_test[i]} \\t {y_val.argmax().item()}')\n",
        "\n",
        "    # Correct or not\n",
        "    if y_val.argmax().item() == y_test[i]:\n",
        "      correct+=1\n",
        "\n",
        "print(f\"We got {correct} correct\")"
      ],
      "metadata": {
        "colab": {
          "base_uri": "https://localhost:8080/"
        },
        "id": "HuEhLf93uKQA",
        "outputId": "99d19b26-7a08-4e9b-d8ad-e1bccb9df1bc"
      },
      "execution_count": 34,
      "outputs": [
        {
          "output_type": "stream",
          "name": "stdout",
          "text": [
            "1 tensor([-5.8760,  4.4628,  6.5124]) \t 2 \t 2\n",
            "2 tensor([-7.5436,  4.1670,  9.7255]) \t 2 \t 2\n",
            "3 tensor([-8.4504,  5.1271, 10.1987]) \t 2 \t 2\n",
            "4 tensor([-4.3398,  5.6267,  2.5608]) \t 1 \t 1\n",
            "5 tensor([-7.1825,  4.8754,  8.2992]) \t 2 \t 2\n",
            "6 tensor([-3.3974,  5.3463,  1.2803]) \t 1 \t 1\n",
            "7 tensor([-5.9231,  4.9822,  5.9997]) \t 2 \t 2\n",
            "8 tensor([-4.2881,  5.7003,  2.3889]) \t 1 \t 1\n",
            "9 tensor([-6.5356,  4.9257,  7.1260]) \t 2 \t 2\n",
            "10 tensor([-8.0509,  4.4129, 10.3286]) \t 2 \t 2\n",
            "11 tensor([-5.6762,  4.9500,  5.6215]) \t 2 \t 2\n",
            "12 tensor([ 4.5662, -2.2476, -2.8911]) \t 0 \t 0\n",
            "13 tensor([ 4.2571, -1.9967, -2.7330]) \t 0 \t 0\n",
            "14 tensor([-2.1108,  4.0515,  0.5799]) \t 1 \t 1\n",
            "15 tensor([ 3.4575, -1.2098, -2.3514]) \t 0 \t 0\n",
            "16 tensor([-5.4724,  5.1165,  5.0934]) \t 2 \t 1\n",
            "17 tensor([ 4.0557, -1.7949, -2.6492]) \t 0 \t 0\n",
            "18 tensor([-5.8075,  4.6053,  6.2458]) \t 1 \t 2\n",
            "19 tensor([ 4.4343, -2.1392, -2.8242]) \t 0 \t 0\n",
            "20 tensor([ 3.4527, -1.2514, -2.3660]) \t 0 \t 0\n",
            "21 tensor([-2.6189,  4.5619,  0.8574]) \t 1 \t 1\n",
            "22 tensor([-7.7412,  4.7377,  9.4199]) \t 2 \t 2\n",
            "23 tensor([ 3.5743, -1.3221, -2.4135]) \t 0 \t 0\n",
            "24 tensor([ 4.5365, -2.2383, -2.8684]) \t 0 \t 0\n",
            "25 tensor([-2.6579,  4.6177,  0.8823]) \t 1 \t 1\n",
            "26 tensor([-3.2865,  5.2229,  1.2164]) \t 1 \t 1\n",
            "27 tensor([-4.6514,  5.7776,  2.9273]) \t 1 \t 1\n",
            "28 tensor([-2.9464,  4.8892,  1.0379]) \t 1 \t 1\n",
            "29 tensor([ 4.5847, -2.2687, -2.8974]) \t 0 \t 0\n",
            "30 tensor([-4.5784,  5.4554,  3.1660]) \t 1 \t 1\n",
            "We got 28 correct\n"
          ]
        }
      ]
    },
    {
      "cell_type": "code",
      "source": [
        "# Create a new data point, in this case a new flower\n",
        "new_flower = torch.tensor([4.7, 3.2, 1.3, 0.2])"
      ],
      "metadata": {
        "id": "_uTxNmsbxOJc"
      },
      "execution_count": 32,
      "outputs": []
    },
    {
      "cell_type": "code",
      "source": [
        "with torch.no_grad():\n",
        "  print(model(new_flower))"
      ],
      "metadata": {
        "colab": {
          "base_uri": "https://localhost:8080/"
        },
        "id": "lbJYC78cxdSq",
        "outputId": "027a4871-12a4-4d63-df40-430634159a51"
      },
      "execution_count": 33,
      "outputs": [
        {
          "output_type": "stream",
          "name": "stdout",
          "text": [
            "tensor([ 4.5365, -2.2383, -2.8684])\n"
          ]
        }
      ]
    },
    {
      "cell_type": "code",
      "source": [
        "# Save or NN Model\n",
        "torch.save(model.state_dict(), 'my_iris_model.pt')"
      ],
      "metadata": {
        "id": "t6nlZvsXyyuF"
      },
      "execution_count": 35,
      "outputs": []
    },
    {
      "cell_type": "code",
      "source": [
        "# Load the Saved Model\n",
        "new_model = Neural_Model()\n",
        "new_model.load_state_dict(torch.load('my_iris_model.pt'))"
      ],
      "metadata": {
        "colab": {
          "base_uri": "https://localhost:8080/"
        },
        "id": "2WF-uiLBy-5x",
        "outputId": "252d8dd3-151a-4a4e-93a5-8a2a8f086038"
      },
      "execution_count": 36,
      "outputs": [
        {
          "output_type": "stream",
          "name": "stderr",
          "text": [
            "<ipython-input-36-c8571df87ba6>:3: FutureWarning: You are using `torch.load` with `weights_only=False` (the current default value), which uses the default pickle module implicitly. It is possible to construct malicious pickle data which will execute arbitrary code during unpickling (See https://github.com/pytorch/pytorch/blob/main/SECURITY.md#untrusted-models for more details). In a future release, the default value for `weights_only` will be flipped to `True`. This limits the functions that could be executed during unpickling. Arbitrary objects will no longer be allowed to be loaded via this mode unless they are explicitly allowlisted by the user via `torch.serialization.add_safe_globals`. We recommend you start setting `weights_only=True` for any use case where you don't have full control of the loaded file. Please open an issue on GitHub for any issues related to this experimental feature.\n",
            "  new_model.load_state_dict(torch.load('my_iris_model.pt'))\n"
          ]
        },
        {
          "output_type": "execute_result",
          "data": {
            "text/plain": [
              "<All keys matched successfully>"
            ]
          },
          "metadata": {},
          "execution_count": 36
        }
      ]
    },
    {
      "cell_type": "code",
      "source": [
        "# Make it loaded correctly\n",
        "new_model.eval()"
      ],
      "metadata": {
        "colab": {
          "base_uri": "https://localhost:8080/"
        },
        "id": "L4WM04OCzd54",
        "outputId": "ffed72c5-ae19-4298-cf9c-e8826f97e3a5"
      },
      "execution_count": 39,
      "outputs": [
        {
          "output_type": "execute_result",
          "data": {
            "text/plain": [
              "Neural_Model(\n",
              "  (fc1): Linear(in_features=4, out_features=8, bias=True)\n",
              "  (fc2): Linear(in_features=8, out_features=9, bias=True)\n",
              "  (out): Linear(in_features=9, out_features=3, bias=True)\n",
              ")"
            ]
          },
          "metadata": {},
          "execution_count": 39
        }
      ]
    }
  ]
}